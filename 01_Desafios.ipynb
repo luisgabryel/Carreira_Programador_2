{
  "nbformat": 4,
  "nbformat_minor": 0,
  "metadata": {
    "colab": {
      "name": "01 - Desafios",
      "provenance": []
    },
    "kernelspec": {
      "name": "python3",
      "display_name": "Python 3"
    },
    "language_info": {
      "name": "python"
    }
  },
  "cells": [
    {
      "cell_type": "markdown",
      "source": [
        "#**01 - Desafios**\n",
        "\n",
        "---\n",
        "\n"
      ],
      "metadata": {
        "id": "YcGUiA0PhHEz"
      }
    },
    {
      "cell_type": "markdown",
      "source": [
        "**Desafio 01**\n",
        "\n",
        "\n",
        "1.   Transformar o código abaixo em função\n",
        "\n",
        "1.   Permitir que a quantidade de notas seja indefinida\n",
        "2.   Verificar se o aluno aprovou (média igual o superior a 5)\n",
        "\n",
        "\n",
        "```\n",
        "var notas = [8, 5, 4, 3];\n",
        "var soma = 0;\n",
        "\n",
        "notas.forEach(function(nota) {\n",
        "  soma = soma + nota;\n",
        "});\n",
        "\n",
        "var media = soma / 4;\n",
        "alert(\"Sua média é \" + media);\n",
        "```\n",
        "\n",
        "\n",
        "\n",
        "---\n",
        "\n",
        "\n",
        "\n",
        "\n",
        "\n",
        "\n",
        "\n"
      ],
      "metadata": {
        "id": "dfEJknn-iHvI"
      }
    },
    {
      "cell_type": "markdown",
      "source": [
        "\n",
        "\n",
        "```\n",
        "// noprotect\n",
        "\n",
        "var notas = []\n",
        "var soma = 0\n",
        "\n",
        "while(confirm(\"Deseja inserir uma nota?\")){\n",
        "  var valor = prompt(\"Insira sua nota: \")\n",
        "  notas.push(valor)\n",
        "}\n",
        "\n",
        "function media(){\n",
        "  notas.forEach(function (valores){\n",
        "    soma = soma + parseFloat(valores)\n",
        "  })\n",
        "  var tamanho_Array = valores.length\n",
        "  return soma / tamanho_Array\n",
        "  }\n",
        "\n",
        "resultado = media()\n",
        "alert(\"Sua média é: \" + resultado.toFixed(2))\n",
        "\n",
        "if (resultado >= 5){\n",
        "  alert(\"Você foi aprovado\")\n",
        "}else{\n",
        "  alert(\"Você foi reprovado\")\n",
        "}\n",
        "```\n",
        "ou\n",
        "\n",
        "```\n",
        "// noprotect\n",
        "\n",
        "var notas = []\n",
        "var soma = 0\n",
        "var i = 0\n",
        "\n",
        "while(confirm(\"Deseja inserir sua nota?\")){\n",
        "  nota = prompt(\"Insira sua nota: \")\n",
        "  notas.push(nota)\n",
        "}\n",
        "\n",
        "function media(valores){\n",
        "    var tamanho_Array = valores.length\n",
        "    while(i<tamanho_Array){\n",
        "        soma = soma + parseFloat(valores[i++])\n",
        "    }\n",
        "    return soma / tamanho_Array\n",
        "}\n",
        "resultado = media(notas)\n",
        "alert(\"Sua média é: \" + resultado)\n",
        "\n",
        "if (resultado >= 5){\n",
        "  alert(\"Você foi aprovado\")\n",
        "}else{\n",
        "  alert(\"Você foi reprovado\")\n",
        "}\n",
        "```\n",
        "\n",
        "\n",
        "\n"
      ],
      "metadata": {
        "id": "B4pMP8J6imug"
      }
    },
    {
      "cell_type": "markdown",
      "source": [
        "**Desafio 02** - \n",
        "Altere o código abaixo de forma que você consiga identificar o maior desconto e o menor desconto oferecido por uma loja comercial. Utilize o forEach para iterar o array.\n",
        "\n",
        "```\n",
        "var descontos = [30, 45, 60, 20, 10, 75];\n",
        "```\n",
        "\n",
        "\n",
        "---\n",
        "\n",
        "\n",
        "\n"
      ],
      "metadata": {
        "id": "cJkTZ6oLi8eb"
      }
    },
    {
      "cell_type": "markdown",
      "source": [
        "\n",
        "\n",
        "```\n",
        "var descontos = [30, 45, 60, 20, 10, 75]\n",
        "maior = 0\n",
        "descontos.forEach(function(valor){\n",
        "  if(valor > maior){\n",
        "    maior = valor\n",
        "  }else{\n",
        "    menor = valor\n",
        "  }\n",
        "})\n",
        "\n",
        "alert(\"O maior valor de desconto é: \" + maior + \"\\nO menor valor de desconto é: \" + menor)\n",
        "```\n",
        "\n"
      ],
      "metadata": {
        "id": "XenPiRL7jLSA"
      }
    },
    {
      "cell_type": "markdown",
      "source": [
        "**Desafio 03** - Vamos calcular a comissão em reais de um vendedor. A regra é a seguinte: temos um array com o valor das vendas e devemos aplicar um percentual de comissão dependendo do valor total das vendas do vendedor. A comissão inicial do vendedor é 15%, porém se ele vender mais de 100 reais a comissão será de 20% e se ele vender 200 reais ou mais a comissão será de 25%.\n",
        "\n",
        "Calcule a comissão em reais do vendedor e exiba para o usuário usando o alert.\n",
        "\n",
        "```\n",
        "var vendas = [32.54, 44.56, 50.10, 11.09];\n",
        "```\n",
        "\n",
        "\n",
        "---\n",
        "\n",
        "\n",
        "\n"
      ],
      "metadata": {
        "id": "Zt0531c6jSK6"
      }
    },
    {
      "cell_type": "markdown",
      "source": [
        "\n",
        "\n",
        "```\n",
        "var vendas = [32.54, 44.56, 50.10, 11.09]\n",
        "var soma = 0\n",
        "const VENDA_100 = 100\n",
        "const VENDA_200 = 200\n",
        "const ACRESCIMO_15 = 0.15\n",
        "const ACRESCIMO_20 = 0.2\n",
        "const ACRESCIMO_25 = 0.25\n",
        "\n",
        "vendas.forEach(function(valor){\n",
        "    soma = soma + valor\n",
        "})\n",
        "  if(soma > 0 && soma < VENDA_100 ){\n",
        "    comissao = ACRESCIMO_15 * soma\n",
        "    valor_ajustado = comissao + soma\n",
        "  }\n",
        "  else if(soma < VENDA_200){\n",
        "    comissao = ACRESCIMO_20 * soma\n",
        "    valor_ajustado = comissao + soma\n",
        "  }else if(soma > VENDA_200){\n",
        "    comissao = ACRESCIMO_25 * soma\n",
        "    valor_ajustado = comissao + soma\n",
        "  }else{\n",
        "    alert(\"Não teve vendas\")\n",
        "  }\n",
        "\n",
        "alert(\"Sua comissão é: \" + comissao.toFixed(2) + \" reais\")\n",
        "alert(\"Seu valor ajustado é: \" + valor_ajustado.toFixed(2) + \" reais\") \n",
        "```\n",
        "\n"
      ],
      "metadata": {
        "id": "A3fvWQz1jd_-"
      }
    },
    {
      "cell_type": "markdown",
      "source": [
        "**Desafio 04** - No array abaixo temos uma lista de sexo de pessoas. Ajude-me a descobrir quantas pessoas tem do sexo masculino e quantas pessoas tem do sexo feminino.\n",
        "\n",
        "Você deve utilizar o forEach para resolver esse desafio.\n",
        "\n",
        "\n",
        "```\n",
        "var sexos = ['M', 'M', 'F', 'M', 'F', 'F', 'F', 'M', 'F', 'M', 'F', 'M', 'F', 'F', 'M', 'M', 'M', 'F', 'F'];\n",
        "```\n",
        "\n",
        "\n",
        "\n",
        "---\n",
        "\n"
      ],
      "metadata": {
        "id": "jQ8b-H-cjo7_"
      }
    },
    {
      "cell_type": "markdown",
      "source": [
        "\n",
        "\n",
        "```\n",
        "var sexos = ['M', 'M', 'F', 'M', 'F', 'F', 'F', 'M', 'F', 'M', 'F', 'M', 'F', 'F', 'M', 'M', 'M', 'F', 'F'];\n",
        "var soma_F = 0\n",
        "var soma_M = 0\n",
        "sexos.forEach(function(sexo){\n",
        "  if(sexo == 'F'){\n",
        "    soma_F += 1\n",
        "  } else{\n",
        "    soma_M += 1\n",
        "  }\n",
        "})\n",
        "\n",
        "alert(`Tem ${soma_F} mulheres e ${soma_M} homens`)\n",
        "```\n",
        "\n"
      ],
      "metadata": {
        "id": "uScfUhyOj9TL"
      }
    },
    {
      "cell_type": "markdown",
      "source": [
        "**Desafio 05** - Utilize o while com o confirm com a seguinte pergunta: \"Deseja cadastrar uma idade?\", enquanto o usuário responder sim você deve utilizar o prompt e pedir para o usuário digitar uma idade. Após o usuário digitar uma idade, você deve atribuir o valor digitado a um array usando o push (Você pode clicar aqui para descobrir como utilizar o push).\n",
        "\n",
        "No final, utilize o forEach para informar para o usuário a menor idade digitada.\n",
        "\n",
        "\n",
        "\n",
        "\n",
        "---\n",
        "\n"
      ],
      "metadata": {
        "id": "VHzwex6QkICy"
      }
    },
    {
      "cell_type": "markdown",
      "source": [
        "\n",
        "\n",
        "```\n",
        "// noprotect\n",
        "\n",
        "var idades = []\n",
        "\n",
        "while (confirm(\"Você deseja cadastrar idade?\")) {\n",
        "  var idade = prompt(\"Insira a idade\")\n",
        "  idades.push(idade)\n",
        "}\n",
        "\n",
        "var menor = 121\n",
        "idades.forEach(function(valor) {\n",
        "  if (valor < menor) {\n",
        "    menor = valor\n",
        "  }\n",
        "})\n",
        "\n",
        "alert(\"A  menor idade digitada foi: \" + menor)\n",
        "```\n",
        "\n"
      ],
      "metadata": {
        "id": "ra2dkxy2kaZu"
      }
    }
  ]
}