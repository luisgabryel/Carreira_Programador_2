{
  "nbformat": 4,
  "nbformat_minor": 0,
  "metadata": {
    "colab": {
      "name": "01 - LÓGICA DE PROGRAMAÇÃO",
      "provenance": [],
      "collapsed_sections": []
    },
    "kernelspec": {
      "name": "python3",
      "display_name": "Python 3"
    },
    "language_info": {
      "name": "python"
    }
  },
  "cells": [
    {
      "cell_type": "markdown",
      "source": [
        "# **Lógica de Programação**\n",
        "\n",
        "\n",
        "---\n",
        "\n",
        "\n",
        "\n",
        "\n",
        "\n",
        "\n"
      ],
      "metadata": {
        "id": "ARPxWwK-yLNo"
      }
    },
    {
      "cell_type": "markdown",
      "source": [
        "**Exercício 01:** Crie 5 variáveis de cada tipo abaixo:\n",
        "\n",
        "\n",
        "*   Number\n",
        "*   String\n",
        "*   Boolean\n",
        "\n",
        "\n",
        "---\n",
        "\n"
      ],
      "metadata": {
        "id": "7jJODS35NzpX"
      }
    },
    {
      "cell_type": "markdown",
      "source": [
        "\n",
        "\n",
        "```\n",
        "var numero1 = 15\n",
        "var numero2 = 20\n",
        "var numero3 = 30\n",
        "var numero4 = 35\n",
        "var numero5 = 40\n",
        "\n",
        "var letra1 = \"a\"\n",
        "var letra2 = \"b\"\n",
        "var letra3 = \"c\"\n",
        "var letra4 = \"d\"\n",
        "var letra5 = \"e\"\n",
        "\n",
        "var boleano1 = false\n",
        "var boleano2 = true\n",
        "var boleano3 = false\n",
        "var boleano4 = true\n",
        "var boleano5 = false\n",
        "\n",
        "```\n",
        "\n"
      ],
      "metadata": {
        "id": "f-xZvKEw4LT2"
      }
    },
    {
      "cell_type": "markdown",
      "source": [
        "**Exercício 02:** Escreva um programa que receba dois valores do usuário, some eles e exiba a soma final.\n",
        "\n",
        "---"
      ],
      "metadata": {
        "id": "vNiA9t034V6K"
      }
    },
    {
      "cell_type": "markdown",
      "source": [
        "\n",
        "\n",
        "```\n",
        "valor1 = prompt(\"Digite o primeiro valor: \")\n",
        "valor2 = prompt(\"Digite o segundo valor: \")\n",
        "\n",
        "soma = parseFloat(valor1) + parseFloat(valor2)\n",
        "\n",
        "alert(soma)\n",
        "```\n",
        "\n"
      ],
      "metadata": {
        "id": "QF3qTg4V5gqC"
      }
    },
    {
      "cell_type": "markdown",
      "source": [
        "**Exercício 03:** Escreva um programa que receba o valor do lado de um quadrado em cm e calcule o perímetro do quadrado.\n",
        "\n",
        "---"
      ],
      "metadata": {
        "id": "IjVWWkeb5yxu"
      }
    },
    {
      "cell_type": "markdown",
      "source": [
        "\n",
        "\n",
        "```\n",
        "lado = prompt(\"Digite o valor do lado de um quadrado: \")\n",
        "\n",
        "perimetro = parseFloat(lado) * 4\n",
        "\n",
        "alert(\"O perímetro do quadrado em cm é: \" + perimetro)\n",
        "```\n",
        "\n"
      ],
      "metadata": {
        "id": "6wx-TxTx8H2g"
      }
    },
    {
      "cell_type": "markdown",
      "source": [
        "**Exercício 04:** Escreva um programa que receba um número inteiro e calcule o quadrado desse número.\n",
        "\n",
        "\n",
        "\n",
        "---\n",
        "\n"
      ],
      "metadata": {
        "id": "PHmyX2I_8OsS"
      }
    },
    {
      "cell_type": "markdown",
      "source": [
        "\n",
        "\n",
        "```\n",
        "valor = prompt(\"Insira o valor: \")\n",
        "\n",
        "quadrado = parseInt(valor) * parseInt(valor)\n",
        "\n",
        "alert(quadrado)\n",
        "```\n",
        "\n"
      ],
      "metadata": {
        "id": "Ih8g_SH49D1h"
      }
    },
    {
      "cell_type": "markdown",
      "source": [
        "**Exercício 05:** Escreva um programa que receba um valor em horas e que calcule quantos segundos há nesse valor.\n",
        "\n",
        "---"
      ],
      "metadata": {
        "id": "s7f6tIuk9Qpx"
      }
    },
    {
      "cell_type": "markdown",
      "source": [
        "\n",
        "\n",
        "```\n",
        "hora = prompt(\"Digite as horas: \")\n",
        "\n",
        "segundos = parseInt(hora) * 3600\n",
        "\n",
        "alert(hora + \" horas \" + \"tem \" + segundos + \" segundos\")\n",
        "```\n",
        "\n"
      ],
      "metadata": {
        "id": "zpsItFkz-GHf"
      }
    },
    {
      "cell_type": "markdown",
      "source": [
        "**Exercício 06:** Escreva um programa que receba a idade de uma pessoa e classifique ela como: Criança (0 a 10 anos), Adolescente (11 a 15 anos), Jovem (16 a 18 anos), Adulto (19 a 60 anos) e Idoso (61 anos ou mais).\n",
        "\n",
        "\n",
        "---\n",
        "\n"
      ],
      "metadata": {
        "id": "wkNNgKsEAQtU"
      }
    },
    {
      "cell_type": "markdown",
      "source": [
        "\n",
        "\n",
        "```\n",
        "idade = prompt(\"Insira sua idade: \")\n",
        "\n",
        "parseInt(idade)\n",
        "\n",
        "if (idade >= 0 && idade <=10){\n",
        "  alert(\"Você é criança!\")\n",
        "}else if(idade > 10 && idade <=15){\n",
        "  alert(\"Você é adolescente!\")\n",
        "}else if(idade > 15 && idade <= 18){\n",
        "  alert(\"Você é jovem!\")\n",
        "}else if(idade > 18 && idade <= 60){\n",
        "  alert(\"Você é adulto!\")\n",
        "} else if(idade > 60){\n",
        "  alert(\"Você é idoso!\")\n",
        "} else{\n",
        "  alert(\"Digite um valor válido\")\n",
        "}\n",
        "```\n",
        "\n"
      ],
      "metadata": {
        "id": "xD1a8UdVAcZi"
      }
    },
    {
      "cell_type": "markdown",
      "source": [
        "**Exercício 07:** Escreva um programa que receba a velocidade do carro em km/h e calcule a multa recebida pelo motorista. A regra é a segunte, o limite da via é 60 km/h, para cada km excedido o motorista irá receber R$ 3,99 de multa.\n",
        "\n",
        "\n",
        "---\n",
        "\n"
      ],
      "metadata": {
        "id": "f2NgFWD1IfBc"
      }
    },
    {
      "cell_type": "markdown",
      "source": [
        "\n",
        "\n",
        "```\n",
        "velocidade = prompt(\"Digite sua velocidade em km/h: \")\n",
        "\n",
        "parseFloat(velocidade)\n",
        "\n",
        "limite = 60\n",
        "taxa = 3.99\n",
        "\n",
        "if (velocidade > limite){\n",
        "  multa = (velocidade - limite) * taxa\n",
        "  \n",
        "  alert(\"Sua multa é de: \" + multa.toFixed(2) + \" reais\")\n",
        "} else if(velocidade > 0){\n",
        "  alert(\"Está dentro da velocidade permitida\")\n",
        "} else{\n",
        "  alert(\"Velocidade inválida\")\n",
        "}\n",
        "```\n",
        "\n"
      ],
      "metadata": {
        "id": "4-j51SAcIqsJ"
      }
    },
    {
      "cell_type": "markdown",
      "source": [
        "**Exercício 08:** Escreva um programa que receba a quantidade de litros que um motorista abasteceu o carro dele e calcule o valor que ele irá pagar. Ele poderá escolher entre álcool e gasolina. O valor do álcool é 4,01 reais por litro e o valor da gasolina é 5,99 reais por litro.\n",
        "\n",
        "\n",
        "---\n",
        "\n"
      ],
      "metadata": {
        "id": "tEnJuz8JJUR-"
      }
    },
    {
      "cell_type": "markdown",
      "source": [
        "\n",
        "\n",
        "```\n",
        "escolha = prompt(\"Escolha entre as duas opções seguintes: Álcool ou Gasolina\")\n",
        "\n",
        "litros = prompt(\"Digite a quantidade de litros que foi abastecido: \")\n",
        "parseFloat(litros)\n",
        "\n",
        "if (escolha == \"Álcool\"){\n",
        "  valorCobrado = 4.01 * litros\n",
        "  alert(\"O Valor a ser pago é: \" + valorCobrado.toFixed(2) + \" reais\")\n",
        "}else if(escolha == \"Gasolina\"){\n",
        "  valorCobrado = 5.99 * litros\n",
        "  alert(\"O Valor a ser pago é: \" + valorCobrado.toFixed(2) + \" reais\")\n",
        "}else{\n",
        "  alert(\"Digitou errado\")\n",
        "}\n",
        "\n",
        "```\n",
        "\n"
      ],
      "metadata": {
        "id": "t4jmlXg2Jxr3"
      }
    },
    {
      "cell_type": "markdown",
      "source": [
        "**Exercício 09:** Escreva um programa que receba dois valores. Após isso, o usuário deverá escolher se deseja somar, subtrair, dividir ou multiplicar esses valores. O resultado final deverá ser exibido.\n",
        "\n",
        "\n",
        "---\n",
        "\n"
      ],
      "metadata": {
        "id": "BuwnKDHyJ0De"
      }
    },
    {
      "cell_type": "markdown",
      "source": [
        "\n",
        "\n",
        "```\n",
        "valor1 = prompt(\"Digite o primeiro valor\")\n",
        "valor2 = prompt(\"Digite o segundo valor\")\n",
        "parseFloat(valor1)\n",
        "parseFloat(valor2)\n",
        "\n",
        "escolha = prompt(\"Escolha uma operação dentre as seguintes: Somar, Subtrair, Dividir, Multiplicar\")\n",
        "\n",
        "if (escolha == \"Somar\"){\n",
        "  operacao = valor1 + valor2\n",
        "  alert(\"O resultado da soma é: \" + operacao.toFixed(2))\n",
        "}else if(escolha == \"Subtrair\"){\n",
        "  operacao = valor1 - valor2\n",
        "  alert(\"O resultado da subtracao é: \" + operacao.tofixed(2))\n",
        "}else if(escolha == \"Dividir\"){\n",
        "  operacao = valor1 / valor2\n",
        "  alert(\"O resultado da divisão é: \" + operacao.toFixed(2))\n",
        "}else if(escolha == \"Multiplicar\"){\n",
        "  operacao = valor1 * valor2\n",
        "  alert(\"O resultado da multiplicação é: \" + operacao.toFixed(2))\n",
        "}else{\n",
        "  alert(\"Digitou errado\")\n",
        "}\n",
        "```\n",
        "\n"
      ],
      "metadata": {
        "id": "bu_KKlbuKaaS"
      }
    },
    {
      "cell_type": "markdown",
      "source": [
        "**Exercício 10:** Escreva um programa que faça uma pergunta para o usuário e dê 5 alternativas. O usuário deverá escolher uma alternativa e você deverá dizer se a alternativa está certa ou errada.\n",
        "\n",
        "\n",
        "---\n",
        "\n"
      ],
      "metadata": {
        "id": "uA0hgwviKiZb"
      }
    },
    {
      "cell_type": "markdown",
      "source": [
        "\n",
        "\n",
        "```\n",
        "alert(\"ATENÇÃO! Favor digitar com letras maiúsculas!\")\n",
        "\n",
        "escolha = prompt (\"Qual a capital da Letônia? \\n \\n (A) LIUBLIANA \\n (B) RIGA \\n (C) REIQUIAVIQUE \\n (D) DUDINKA \\n (E) VILNIUS\")\n",
        "\n",
        "if (escolha == \"LIUBLIANA\" || escolha == \"A\"){\n",
        "  alert(\"Resposta incorreta\")\n",
        "} else if(escolha == \"RIGA\" || escolha == \"B\"){\n",
        "  alert(\"Parabéns! Resposta correta\")\n",
        "} else if(escolha == \"REIQUIAVIQUE\" || escolha == \"C\"){\n",
        "    alert(\"Resposta incorreta\")\n",
        "} else if(escolha == \"Dudinka\" || escolha == \"D\"){\n",
        "    alert(\"Resposta incorreta\")\n",
        "} else if(escolha == \"Vilnius\" || escolha == \"E\"){\n",
        "    alert(\"Resposta incorreta\")\n",
        "} else{\n",
        "    alert(\"Digite corretamente\")\n",
        "}\n",
        "```\n",
        "\n"
      ],
      "metadata": {
        "id": "WHVPAYreKtDg"
      }
    }
  ]
}